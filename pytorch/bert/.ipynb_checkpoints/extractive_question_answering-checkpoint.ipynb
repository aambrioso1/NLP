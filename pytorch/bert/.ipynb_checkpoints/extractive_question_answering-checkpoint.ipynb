{
 "cells": [
  {
   "cell_type": "markdown",
   "metadata": {},
   "source": [
    "# Using Transformers for Question Answering\n",
    "Example of using Bert for question answering\n",
    "Found here:  https://huggingface.co/transformers/task_summary.html#extractive-question-answering\n",
    "\n",
    "Need to study this script for fine-tuning the transformers library models for question answering:\n",
    "https://github.com/huggingface/transformers/blob/master/examples/pytorch/question-answering/run_qa.py"
   ]
  },
  {
   "cell_type": "code",
   "execution_count": 33,
   "metadata": {},
   "outputs": [],
   "source": [
    "from transformers import AutoTokenizer, AutoModelForQuestionAnswering\n",
    "import torch"
   ]
  },
  {
   "cell_type": "code",
   "execution_count": 32,
   "metadata": {},
   "outputs": [
    {
     "name": "stdout",
     "output_type": "stream",
     "text": [
      "**************************************************\n",
      "Question: Who is Anne Elliot?\n",
      "Answer: a young englishwoman of twenty - seven years\n",
      "**************************************************\n",
      "Question: What year was Anne engage?\n",
      "Answer: 1806\n",
      "**************************************************\n",
      "Question: What was Anne persuaded to do?\n",
      "Answer: end their relationship\n",
      "**************************************************\n",
      "Question: How long were Anne and Captain Wentworth separated?\n",
      "Answer: seven - year\n",
      "**************************************************\n",
      "Question: How old was Austen when she wrote Persuasion\n",
      "Answer: twenty - seven years\n",
      "**************************************************\n",
      "Question: What was Austen's last completed work?\n",
      "Answer: persuasion is the last novel fully completed by jane austen. it was published at the end of 1817, six months after her death. the story concerns anne elliot, a young englishwoman of twenty - seven years, whose family moves to lower their expenses and reduce their debt by renting their home to an admiral and his wife. the wife's brother, navy captain frederick wentworth, was engaged to anne in 1806, but the engagement was broken when anne was \" persuaded \" by her friends and family to end their relationship. anne and captain wentworth, both single and unattached, meet again after a seven - year separation, setting the scene for many humorous encounters as well as a second, well - considered chance at love and marriage for anne in her second \" bloom \". the novel was well - received in the early 19th century, but its greater fame came later in the century and continued into the 20th and 21st centuries. much scholarly debate on austen's work has since been published. anne elliot is noteworthy among austen's heroines for her relative maturity. as persuasion\n",
      "**************************************************\n",
      "Question: What was Austen's last completed novel?\n",
      "Answer: persuasion\n",
      "**************************************************\n"
     ]
    }
   ],
   "source": [
    "# Here we use a Bert model that has been fine-tuned.\n",
    "tokkenizer = AutoTokenizer.from_pretrained(\"bert-large-uncased-whole-word-masking-finetuned-squad\")\n",
    "model = AutoModelForQuestionAnswering.from_pretrained(\"bert-large-uncased-whole-word-masking-finetuned-squad\")\n",
    "\n",
    "# The text is from the Wikipedia article on Austen's last novel Persuasion.\n",
    "# https://en.wikipedia.org/wiki/Persuasion_(novel)\n",
    "\n",
    "text = r\"\"\"Persuasion is the last novel fully completed by Jane Austen. It was published at the end of 1817, six months after her death.\n",
    "The story concerns Anne Elliot, a young Englishwoman of twenty-seven years, whose family moves to lower their expenses and reduce their debt by renting their home to an Admiral and his wife. The wife's brother, Navy Captain Frederick Wentworth, was engaged to Anne in 1806, but the engagement was broken when Anne was \"persuaded\" by her friends and family to end their relationship. Anne and Captain Wentworth, both single and unattached, meet again after a seven-year separation, setting the scene for many humorous encounters as well as a second, well-considered chance at love and marriage for Anne in her second \"bloom\".\n",
    "The novel was well-received in the early 19th century, but its greater fame came later in the century and continued into the 20th and 21st centuries. Much scholarly debate on Austen's work has since been published. Anne Elliot is noteworthy among Austen's heroines for her relative maturity. As Persuasion was Austen's last completed work, it is accepted as her most maturely written novel, showing a refinement of literary conception indicative of a woman approaching forty years of age. Her use of free indirect discourse in narrative was in full evidence by 1816.\n",
    "Persuasion has been the subject of several adaptations, including four made-for-television adaptations, theatre productions, radio broadcasts, and other literary works.\n",
    "\"\"\"\n",
    "\n",
    "questions = ['Who is Anne Elliot?',\\\n",
    "             'What year was Anne engage?',\\\n",
    "             'What was Anne persuaded to do?',\\\n",
    "             'How long were Anne and Captain Wentworth separated?',\\\n",
    "             'How old was Austen when she wrote Persuasion',\\\n",
    "             'What was Austen\\'s last completed work?',\\\n",
    "             'What was Austen\\'s last completed novel?',\\\n",
    "            ]\n",
    "n = 50 # number of asterisks printed for a frame around the results\n",
    "print(n * '*')\n",
    "\n",
    "for question in questions:\n",
    "    inputs = tokenizer(question, text, add_special_tokens=True, return_tensors=\"pt\")\n",
    "    input_ids = inputs[\"input_ids\"].tolist()[0]\n",
    "    outputs = model(**inputs)\n",
    "    answer_start_scores = outputs.start_logits\n",
    "    answer_end_scores = outputs.end_logits\n",
    "\n",
    "    # pick location of most probable answers\n",
    "    answer_start = torch.argmax(answer_start_scores)  # Get the most likely beginning of answer with the argmax of the score\n",
    "    answer_end = torch.argmax(answer_end_scores) + 1  # Get the most likely end of answer with the argmax of the score\n",
    "    \n",
    "    # converts answer from tokens to strings\n",
    "    answer = tokenizer.convert_tokens_to_string(tokenizer.convert_ids_to_tokens(input_ids[answer_start:answer_end]))\n",
    "    \n",
    "    \n",
    "    print(f\"Question: {question}\")\n",
    "    print(f\"Answer: {answer}\")\n",
    "    print(n * '*')"
   ]
  },
  {
   "cell_type": "code",
   "execution_count": null,
   "metadata": {},
   "outputs": [],
   "source": []
  }
 ],
 "metadata": {
  "kernelspec": {
   "display_name": "Python 3",
   "language": "python",
   "name": "python3"
  },
  "language_info": {
   "codemirror_mode": {
    "name": "ipython",
    "version": 3
   },
   "file_extension": ".py",
   "mimetype": "text/x-python",
   "name": "python",
   "nbconvert_exporter": "python",
   "pygments_lexer": "ipython3",
   "version": "3.7.4"
  }
 },
 "nbformat": 4,
 "nbformat_minor": 2
}
